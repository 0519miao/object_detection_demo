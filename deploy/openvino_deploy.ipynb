{
 "cells": [
  {
   "cell_type": "code",
   "execution_count": 1,
   "metadata": {
    "ExecuteTime": {
     "end_time": "2019-02-12T03:23:57.989452Z",
     "start_time": "2019-02-12T03:23:57.979449Z"
    }
   },
   "outputs": [
    {
     "data": {
      "text/plain": [
       "'3.6.8 |Anaconda, Inc.| (default, Dec 30 2018, 18:50:55) [MSC v.1915 64 bit (AMD64)]'"
      ]
     },
     "execution_count": 1,
     "metadata": {},
     "output_type": "execute_result"
    }
   ],
   "source": [
    "import sys\n",
    "sys.version"
   ]
  },
  {
   "cell_type": "code",
   "execution_count": 1,
   "metadata": {
    "ExecuteTime": {
     "end_time": "2019-02-12T03:28:04.191659Z",
     "start_time": "2019-02-12T03:28:03.994469Z"
    }
   },
   "outputs": [],
   "source": [
    "import os\n",
    "os.environ[\"OPENCV_DIR\"]=\"C:\\Intel\\computer_vision_sdk\\opencv\\cmake\"\n",
    "import sys\n",
    "import numpy as np\n",
    "import cv2\n",
    "from os import system\n",
    "import io, time\n",
    "from os.path import isfile, join\n",
    "import re\n"
   ]
  },
  {
   "cell_type": "code",
   "execution_count": 9,
   "metadata": {
    "ExecuteTime": {
     "end_time": "2019-02-12T03:52:28.344198Z",
     "start_time": "2019-02-12T03:52:28.339210Z"
    }
   },
   "outputs": [
    {
     "data": {
      "text/plain": [
       "<module 'cv2' from 'D:\\\\Anaconda3\\\\envs\\\\vino\\\\lib\\\\site-packages\\\\cv2.cp36-win_amd64.pyd'>"
      ]
     },
     "execution_count": 9,
     "metadata": {},
     "output_type": "execute_result"
    }
   ],
   "source": [
    "cv2"
   ]
  },
  {
   "cell_type": "code",
   "execution_count": 4,
   "metadata": {
    "ExecuteTime": {
     "end_time": "2019-02-12T03:31:07.348723Z",
     "start_time": "2019-02-12T03:31:07.338719Z"
    }
   },
   "outputs": [
    {
     "ename": "error",
     "evalue": "OpenCV(3.4.2) C:\\Miniconda3\\conda-bld\\opencv-suite_1534379934306\\work\\modules\\dnn\\src\\dnn.cpp:1975: error: (-2:Unspecified error) Build OpenCV with Inference Engine to enable loading models from Model Optimizer. in function 'cv::dnn::experimental_dnn_v5::Net::readFromModelOptimizer'\n",
     "output_type": "error",
     "traceback": [
      "\u001b[1;31m---------------------------------------------------------------------------\u001b[0m",
      "\u001b[1;31merror\u001b[0m                                     Traceback (most recent call last)",
      "\u001b[1;32m<ipython-input-4-c038ed1ddba6>\u001b[0m in \u001b[0;36m<module>\u001b[1;34m\u001b[0m\n\u001b[0;32m      1\u001b[0m net = cv2.dnn.readNet(\n\u001b[0;32m      2\u001b[0m     \u001b[1;34m\"./models/MobileNetSSD/MobileNetSSD_deploy.xml\"\u001b[0m\u001b[1;33m,\u001b[0m\u001b[1;33m\u001b[0m\u001b[1;33m\u001b[0m\u001b[0m\n\u001b[1;32m----> 3\u001b[1;33m     \u001b[1;34m\"./models/MobileNetSSD/MobileNetSSD_deploy.bin\"\u001b[0m\u001b[1;33m,\u001b[0m\u001b[1;33m\u001b[0m\u001b[1;33m\u001b[0m\u001b[0m\n\u001b[0m\u001b[0;32m      4\u001b[0m )\n\u001b[0;32m      5\u001b[0m \u001b[0mnet\u001b[0m\u001b[1;33m.\u001b[0m\u001b[0msetPreferableTarget\u001b[0m\u001b[1;33m(\u001b[0m\u001b[0mcv2\u001b[0m\u001b[1;33m.\u001b[0m\u001b[0mdnn\u001b[0m\u001b[1;33m.\u001b[0m\u001b[0mDNN_TARGET_MYRIAD\u001b[0m\u001b[1;33m)\u001b[0m\u001b[1;33m\u001b[0m\u001b[1;33m\u001b[0m\u001b[0m\n",
      "\u001b[1;31merror\u001b[0m: OpenCV(3.4.2) C:\\Miniconda3\\conda-bld\\opencv-suite_1534379934306\\work\\modules\\dnn\\src\\dnn.cpp:1975: error: (-2:Unspecified error) Build OpenCV with Inference Engine to enable loading models from Model Optimizer. in function 'cv::dnn::experimental_dnn_v5::Net::readFromModelOptimizer'\n"
     ]
    }
   ],
   "source": [
    "net = cv2.dnn.readNet(\n",
    "    \"./models/MobileNetSSD/MobileNetSSD_deploy.xml\",\n",
    "    \"./models/MobileNetSSD/MobileNetSSD_deploy.bin\",\n",
    ")\n",
    "net.setPreferableTarget(cv2.dnn.DNN_TARGET_MYRIAD)\n"
   ]
  },
  {
   "cell_type": "code",
   "execution_count": null,
   "metadata": {},
   "outputs": [],
   "source": [
    "\n",
    "import sys\n",
    "import numpy as np\n",
    "import cv2\n",
    "from os import system\n",
    "import io, time\n",
    "from os.path import isfile, join\n",
    "import re\n",
    "\n",
    "fps = \"\"\n",
    "detectfps = \"\"\n",
    "framecount = 0\n",
    "detectframecount = 0\n",
    "time1 = 0\n",
    "time2 = 0\n",
    "\n",
    "LABELS = (\n",
    "    \"background\",\n",
    "    \"aeroplane\",\n",
    "    \"bicycle\",\n",
    "    \"bird\",\n",
    "    \"boat\",\n",
    "    \"bottle\",\n",
    "    \"bus\",\n",
    "    \"car\",\n",
    "    \"cat\",\n",
    "    \"chair\",\n",
    "    \"cow\",\n",
    "    \"diningtable\",\n",
    "    \"dog\",\n",
    "    \"horse\",\n",
    "    \"motorbike\",\n",
    "    \"person\",\n",
    "    \"pottedplant\",\n",
    "    \"sheep\",\n",
    "    \"sofa\",\n",
    "    \"train\",\n",
    "    \"tvmonitor\",\n",
    ")\n",
    "\n",
    "camera_width = 320\n",
    "camera_height = 240\n",
    "\n",
    "cap = cv2.VideoCapture(0)\n",
    "cap.set(cv2.CAP_PROP_FPS, 30)\n",
    "cap.set(cv2.CAP_PROP_FRAME_WIDTH, camera_width)\n",
    "cap.set(cv2.CAP_PROP_FRAME_HEIGHT, camera_height)\n",
    "\n",
    "net = cv2.dnn.readNet(\n",
    "    \"./lrmodel/MobileNetSSD/MobileNetSSD_deploy.xml\",\n",
    "    \"./lrmodel/MobileNetSSD/MobileNetSSD_deploy.bin\",\n",
    ")\n",
    "net.setPreferableTarget(cv2.dnn.DNN_TARGET_MYRIAD)\n",
    "\n",
    "# net.setPreferableBackend(cv2.dnn.DNN_BACKEND_INFERENCE_ENGINE)\n",
    "# net.setPreferableTarget(cv2.dnn.DNN_TARGET_OPENCL)\n",
    "\n",
    "print(\"Entering loop\")\n",
    "try:\n",
    "\n",
    "    while True:\n",
    "        t1 = time.perf_counter()\n",
    "\n",
    "        ret, color_image = cap.read()\n",
    "        if not ret:\n",
    "            break\n",
    "        print(\".\", end=\"\", flush=True)\n",
    "        height = color_image.shape[0]\n",
    "        width = color_image.shape[1]\n",
    "\n",
    "        blob = cv2.dnn.blobFromImage(\n",
    "            color_image,\n",
    "            0.007843,\n",
    "            size=(300, 300),\n",
    "            mean=(127.5, 127.5, 127.5),\n",
    "            swapRB=False,\n",
    "            crop=False,\n",
    "        )\n",
    "        net.setInput(blob)\n",
    "        out = net.forward()\n",
    "        out = out.flatten()\n",
    "\n",
    "        for box_index in range(100):\n",
    "            if out[box_index + 1] == 0.0:\n",
    "                break\n",
    "            base_index = box_index * 7\n",
    "            if (\n",
    "                not np.isfinite(out[base_index])\n",
    "                or not np.isfinite(out[base_index + 1])\n",
    "                or not np.isfinite(out[base_index + 2])\n",
    "                or not np.isfinite(out[base_index + 3])\n",
    "                or not np.isfinite(out[base_index + 4])\n",
    "                or not np.isfinite(out[base_index + 5])\n",
    "                or not np.isfinite(out[base_index + 6])\n",
    "            ):\n",
    "                continue\n",
    "\n",
    "            if box_index == 0:\n",
    "                detectframecount += 1\n",
    "\n",
    "            x1 = max(0, int(out[base_index + 3] * height))\n",
    "            y1 = max(0, int(out[base_index + 4] * width))\n",
    "            x2 = min(height, int(out[base_index + 5] * height))\n",
    "            y2 = min(width, int(out[base_index + 6] * width))\n",
    "\n",
    "            object_info_overlay = out[base_index : base_index + 7]\n",
    "\n",
    "            min_score_percent = 60\n",
    "            source_image_width = width\n",
    "            source_image_height = height\n",
    "\n",
    "            base_index = 0\n",
    "            class_id = object_info_overlay[base_index + 1]\n",
    "            percentage = int(object_info_overlay[base_index + 2] * 100)\n",
    "            if percentage <= min_score_percent:\n",
    "                continue\n",
    "\n",
    "            box_left = int(object_info_overlay[base_index + 3] * source_image_width)\n",
    "            box_top = int(object_info_overlay[base_index + 4] * source_image_height)\n",
    "            box_right = int(object_info_overlay[base_index + 5] * source_image_width)\n",
    "            box_bottom = int(object_info_overlay[base_index + 6] * source_image_height)\n",
    "            label_text = LABELS[int(class_id)] + \" (\" + str(percentage) + \"%)\"\n",
    "\n",
    "            box_color = (255, 128, 0)\n",
    "            box_thickness = 1\n",
    "            cv2.rectangle(\n",
    "                color_image,\n",
    "                (box_left, box_top),\n",
    "                (box_right, box_bottom),\n",
    "                box_color,\n",
    "                box_thickness,\n",
    "            )\n",
    "\n",
    "            label_background_color = (125, 175, 75)\n",
    "            label_text_color = (255, 255, 255)\n",
    "\n",
    "            label_size = cv2.getTextSize(label_text, cv2.FONT_HERSHEY_SIMPLEX, 0.5, 1)[\n",
    "                0\n",
    "            ]\n",
    "            label_left = box_left\n",
    "            label_top = box_top - label_size[1]\n",
    "            if label_top < 1:\n",
    "                label_top = 1\n",
    "            label_right = label_left + label_size[0]\n",
    "            label_bottom = label_top + label_size[1]\n",
    "            cv2.rectangle(\n",
    "                color_image,\n",
    "                (label_left - 1, label_top - 1),\n",
    "                (label_right + 1, label_bottom + 1),\n",
    "                label_background_color,\n",
    "                -1,\n",
    "            )\n",
    "            cv2.putText(\n",
    "                color_image,\n",
    "                label_text,\n",
    "                (label_left, label_bottom),\n",
    "                cv2.FONT_HERSHEY_SIMPLEX,\n",
    "                0.5,\n",
    "                label_text_color,\n",
    "                1,\n",
    "            )\n",
    "\n",
    "        cv2.putText(\n",
    "            color_image,\n",
    "            fps,\n",
    "            (width - 170, 15),\n",
    "            cv2.FONT_HERSHEY_SIMPLEX,\n",
    "            0.5,\n",
    "            (38, 0, 255),\n",
    "            1,\n",
    "            cv2.LINE_AA,\n",
    "        )\n",
    "        cv2.putText(\n",
    "            color_image,\n",
    "            detectfps,\n",
    "            (width - 170, 30),\n",
    "            cv2.FONT_HERSHEY_SIMPLEX,\n",
    "            0.5,\n",
    "            (38, 0, 255),\n",
    "            1,\n",
    "            cv2.LINE_AA,\n",
    "        )\n",
    "\n",
    "        cv2.namedWindow(\"USB Camera\", cv2.WINDOW_AUTOSIZE)\n",
    "        cv2.imshow(\"USB Camera\", cv2.resize(color_image, (width, height)))\n",
    "\n",
    "        if cv2.waitKey(1) & 0xFF == ord(\"q\"):\n",
    "            break\n",
    "\n",
    "        # FPS calculation\n",
    "        framecount += 1\n",
    "        if framecount >= 15:\n",
    "            fps = \"(Playback) {:.1f} FPS\".format(time1 / 15)\n",
    "            detectfps = \"(Detection) {:.1f} FPS\".format(detectframecount / time2)\n",
    "            framecount = 0\n",
    "            detectframecount = 0\n",
    "            time1 = 0\n",
    "            time2 = 0\n",
    "        t2 = time.perf_counter()\n",
    "        elapsedTime = t2 - t1\n",
    "        time1 += 1 / elapsedTime\n",
    "        time2 += elapsedTime\n",
    "\n",
    "except:\n",
    "    import traceback\n",
    "\n",
    "    traceback.print_exc()\n",
    "\n",
    "finally:\n",
    "\n",
    "    print(\"\\n\\nFinished\\n\\n\")\n"
   ]
  }
 ],
 "metadata": {
  "kernelspec": {
   "display_name": "Python 3",
   "language": "python",
   "name": "python3"
  },
  "language_info": {
   "codemirror_mode": {
    "name": "ipython",
    "version": 3
   },
   "file_extension": ".py",
   "mimetype": "text/x-python",
   "name": "python",
   "nbconvert_exporter": "python",
   "pygments_lexer": "ipython3",
   "version": "3.6.8"
  },
  "toc": {
   "base_numbering": 1,
   "nav_menu": {},
   "number_sections": true,
   "sideBar": true,
   "skip_h1_title": false,
   "title_cell": "Table of Contents",
   "title_sidebar": "Contents",
   "toc_cell": false,
   "toc_position": {},
   "toc_section_display": true,
   "toc_window_display": false
  }
 },
 "nbformat": 4,
 "nbformat_minor": 2
}
